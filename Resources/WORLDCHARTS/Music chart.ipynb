{
 "cells": [
  {
   "cell_type": "code",
   "execution_count": 93,
   "id": "d54518a8",
   "metadata": {
    "scrolled": true
   },
   "outputs": [],
   "source": [
    "import matplotlib.pyplot as plt\n",
    "from scipy import stats\n",
    "import numpy as np\n",
    "import pandas as pd\n",
    "\n"
   ]
  },
  {
   "cell_type": "code",
   "execution_count": 94,
   "id": "fba447c1",
   "metadata": {
    "scrolled": true
   },
   "outputs": [
    {
     "data": {
      "text/html": [
       "<div>\n",
       "<style scoped>\n",
       "    .dataframe tbody tr th:only-of-type {\n",
       "        vertical-align: middle;\n",
       "    }\n",
       "\n",
       "    .dataframe tbody tr th {\n",
       "        vertical-align: top;\n",
       "    }\n",
       "\n",
       "    .dataframe thead th {\n",
       "        text-align: right;\n",
       "    }\n",
       "</style>\n",
       "<table border=\"1\" class=\"dataframe\">\n",
       "  <thead>\n",
       "    <tr style=\"text-align: right;\">\n",
       "      <th></th>\n",
       "      <th>Rank</th>\n",
       "      <th>Change</th>\n",
       "      <th>Artist</th>\n",
       "      <th>Title</th>\n",
       "      <th>Weeks</th>\n",
       "      <th>Streams</th>\n",
       "      <th>Sales</th>\n",
       "      <th>unnamed1</th>\n",
       "      <th>unnamed2</th>\n",
       "      <th>Date</th>\n",
       "      <th>unnamed3</th>\n",
       "      <th>unnamed4</th>\n",
       "      <th>unnamed5</th>\n",
       "      <th>Name</th>\n",
       "      <th>Songs Name</th>\n",
       "    </tr>\n",
       "  </thead>\n",
       "  <tbody>\n",
       "    <tr>\n",
       "      <th>1</th>\n",
       "      <td>1</td>\n",
       "      <td>=</td>\n",
       "      <td>Taylor Swift - Blank Space</td>\n",
       "      <td>67</td>\n",
       "      <td>1(29)</td>\n",
       "      <td>20632</td>\n",
       "      <td>-115</td>\n",
       "      <td>1.113</td>\n",
       "      <td>2.0</td>\n",
       "      <td>20150101</td>\n",
       "      <td>NaN</td>\n",
       "      <td>NaN</td>\n",
       "      <td>NaN</td>\n",
       "      <td>Taylor Swift</td>\n",
       "      <td>Blank Space</td>\n",
       "    </tr>\n",
       "    <tr>\n",
       "      <th>2</th>\n",
       "      <td>2</td>\n",
       "      <td>=</td>\n",
       "      <td>Mark Ronson - Uptown Funk</td>\n",
       "      <td>52</td>\n",
       "      <td>2</td>\n",
       "      <td>19255</td>\n",
       "      <td>49</td>\n",
       "      <td>0.729</td>\n",
       "      <td>1.0</td>\n",
       "      <td>20150101</td>\n",
       "      <td>NaN</td>\n",
       "      <td>NaN</td>\n",
       "      <td>NaN</td>\n",
       "      <td>Mark Ronson</td>\n",
       "      <td>Uptown Funk</td>\n",
       "    </tr>\n",
       "    <tr>\n",
       "      <th>3</th>\n",
       "      <td>3</td>\n",
       "      <td>+1</td>\n",
       "      <td>Ed Sheeran - Thinking Out Loud</td>\n",
       "      <td>120</td>\n",
       "      <td>2</td>\n",
       "      <td>18928</td>\n",
       "      <td>464</td>\n",
       "      <td>1.444</td>\n",
       "      <td>6.0</td>\n",
       "      <td>20150101</td>\n",
       "      <td>NaN</td>\n",
       "      <td>NaN</td>\n",
       "      <td>NaN</td>\n",
       "      <td>Ed Sheeran</td>\n",
       "      <td>Thinking Out Loud</td>\n",
       "    </tr>\n",
       "    <tr>\n",
       "      <th>4</th>\n",
       "      <td>4</td>\n",
       "      <td>-1</td>\n",
       "      <td>Taylor Swift - Shake It Off</td>\n",
       "      <td>136</td>\n",
       "      <td>1(47)</td>\n",
       "      <td>18626</td>\n",
       "      <td>34</td>\n",
       "      <td>2.606</td>\n",
       "      <td>5.0</td>\n",
       "      <td>20150101</td>\n",
       "      <td>NaN</td>\n",
       "      <td>NaN</td>\n",
       "      <td>NaN</td>\n",
       "      <td>Taylor Swift</td>\n",
       "      <td>Shake It Off</td>\n",
       "    </tr>\n",
       "    <tr>\n",
       "      <th>5</th>\n",
       "      <td>5</td>\n",
       "      <td>=</td>\n",
       "      <td>Meghan Trainor - All About That Bass</td>\n",
       "      <td>164</td>\n",
       "      <td>1(22)</td>\n",
       "      <td>16812</td>\n",
       "      <td>70</td>\n",
       "      <td>2.539</td>\n",
       "      <td>7.0</td>\n",
       "      <td>20150101</td>\n",
       "      <td>NaN</td>\n",
       "      <td>NaN</td>\n",
       "      <td>NaN</td>\n",
       "      <td>Meghan Trainor</td>\n",
       "      <td>All About That Bass</td>\n",
       "    </tr>\n",
       "    <tr>\n",
       "      <th>6</th>\n",
       "      <td>6</td>\n",
       "      <td>=</td>\n",
       "      <td>Hozier - Take Me To Church</td>\n",
       "      <td>143</td>\n",
       "      <td>5</td>\n",
       "      <td>16436</td>\n",
       "      <td>161</td>\n",
       "      <td>1.339</td>\n",
       "      <td>3.0</td>\n",
       "      <td>20150101</td>\n",
       "      <td>NaN</td>\n",
       "      <td>NaN</td>\n",
       "      <td>NaN</td>\n",
       "      <td>Hozier</td>\n",
       "      <td>Take Me To Church</td>\n",
       "    </tr>\n",
       "    <tr>\n",
       "      <th>7</th>\n",
       "      <td>7</td>\n",
       "      <td>=</td>\n",
       "      <td>Pharrell Williams - Happy</td>\n",
       "      <td>406</td>\n",
       "      <td>1(188)</td>\n",
       "      <td>15798</td>\n",
       "      <td>-94</td>\n",
       "      <td>7.280</td>\n",
       "      <td>23.0</td>\n",
       "      <td>20150101</td>\n",
       "      <td>NaN</td>\n",
       "      <td>NaN</td>\n",
       "      <td>NaN</td>\n",
       "      <td>Pharrell Williams</td>\n",
       "      <td>Happy</td>\n",
       "    </tr>\n",
       "    <tr>\n",
       "      <th>8</th>\n",
       "      <td>8</td>\n",
       "      <td>=</td>\n",
       "      <td>David Guetta - Dangerous</td>\n",
       "      <td>88</td>\n",
       "      <td>2</td>\n",
       "      <td>15226</td>\n",
       "      <td>-187</td>\n",
       "      <td>1.289</td>\n",
       "      <td>85.0</td>\n",
       "      <td>20150101</td>\n",
       "      <td>NaN</td>\n",
       "      <td>NaN</td>\n",
       "      <td>NaN</td>\n",
       "      <td>David Guetta</td>\n",
       "      <td>Dangerous</td>\n",
       "    </tr>\n",
       "    <tr>\n",
       "      <th>9</th>\n",
       "      <td>9</td>\n",
       "      <td>=</td>\n",
       "      <td>Sam Smith - I'm Not the Only One</td>\n",
       "      <td>145</td>\n",
       "      <td>7</td>\n",
       "      <td>13183</td>\n",
       "      <td>-430</td>\n",
       "      <td>1.419</td>\n",
       "      <td>10.0</td>\n",
       "      <td>20150101</td>\n",
       "      <td>NaN</td>\n",
       "      <td>NaN</td>\n",
       "      <td>NaN</td>\n",
       "      <td>Sam Smith</td>\n",
       "      <td>I'm Not the Only One</td>\n",
       "    </tr>\n",
       "    <tr>\n",
       "      <th>10</th>\n",
       "      <td>10</td>\n",
       "      <td>+1</td>\n",
       "      <td>Sia - Chandelier</td>\n",
       "      <td>284</td>\n",
       "      <td>3</td>\n",
       "      <td>12540</td>\n",
       "      <td>208</td>\n",
       "      <td>3.253</td>\n",
       "      <td>58.0</td>\n",
       "      <td>20150101</td>\n",
       "      <td>NaN</td>\n",
       "      <td>NaN</td>\n",
       "      <td>NaN</td>\n",
       "      <td>Sia</td>\n",
       "      <td>Chandelier</td>\n",
       "    </tr>\n",
       "  </tbody>\n",
       "</table>\n",
       "</div>"
      ],
      "text/plain": [
       "    Rank Change                                Artist Title   Weeks  Streams  \\\n",
       "1      1      =            Taylor Swift - Blank Space    67   1(29)    20632   \n",
       "2      2      =             Mark Ronson - Uptown Funk    52       2    19255   \n",
       "3      3     +1        Ed Sheeran - Thinking Out Loud   120       2    18928   \n",
       "4      4     -1           Taylor Swift - Shake It Off   136   1(47)    18626   \n",
       "5      5      =  Meghan Trainor - All About That Bass   164   1(22)    16812   \n",
       "6      6      =            Hozier - Take Me To Church   143       5    16436   \n",
       "7      7      =             Pharrell Williams - Happy   406  1(188)    15798   \n",
       "8      8      =              David Guetta - Dangerous    88       2    15226   \n",
       "9      9      =      Sam Smith - I'm Not the Only One   145       7    13183   \n",
       "10    10     +1                      Sia - Chandelier   284       3    12540   \n",
       "\n",
       "    Sales  unnamed1  unnamed2      Date unnamed3  unnamed4 unnamed5  \\\n",
       "1    -115     1.113       2.0  20150101      NaN       NaN      NaN   \n",
       "2      49     0.729       1.0  20150101      NaN       NaN      NaN   \n",
       "3     464     1.444       6.0  20150101      NaN       NaN      NaN   \n",
       "4      34     2.606       5.0  20150101      NaN       NaN      NaN   \n",
       "5      70     2.539       7.0  20150101      NaN       NaN      NaN   \n",
       "6     161     1.339       3.0  20150101      NaN       NaN      NaN   \n",
       "7     -94     7.280      23.0  20150101      NaN       NaN      NaN   \n",
       "8    -187     1.289      85.0  20150101      NaN       NaN      NaN   \n",
       "9    -430     1.419      10.0  20150101      NaN       NaN      NaN   \n",
       "10    208     3.253      58.0  20150101      NaN       NaN      NaN   \n",
       "\n",
       "                  Name             Songs Name  \n",
       "1        Taylor Swift             Blank Space  \n",
       "2         Mark Ronson             Uptown Funk  \n",
       "3          Ed Sheeran       Thinking Out Loud  \n",
       "4        Taylor Swift            Shake It Off  \n",
       "5      Meghan Trainor     All About That Bass  \n",
       "6              Hozier       Take Me To Church  \n",
       "7   Pharrell Williams                   Happy  \n",
       "8        David Guetta               Dangerous  \n",
       "9           Sam Smith    I'm Not the Only One  \n",
       "10                Sia              Chandelier  "
      ]
     },
     "execution_count": 94,
     "metadata": {},
     "output_type": "execute_result"
    }
   ],
   "source": [
    "\n",
    "df = pd.read_csv(\"week_allcharts_df_v01.csv\",low_memory=False ,header=None, names=[\"Rank\", \"Change\", \"Artist\", \"Title\",  \"Weeks\", \"Streams\", \"Sales\", \"unnamed1\",  \"unnamed2\", \"Date\", \"unnamed3\", \"unnamed4\",  \"unnamed5\"])\n",
    "df[[\"Name\", \"Songs Name\"]] = df[\"Artist\"].str.split(\"-\",n=1,expand=True)\n",
    "df.index += 1\n",
    "df.head(10)\n"
   ]
  },
  {
   "cell_type": "code",
   "execution_count": 95,
   "id": "17049bb6",
   "metadata": {
    "scrolled": false
   },
   "outputs": [
    {
     "data": {
      "text/plain": [
       "Weeks  Name          \n",
       "1(1)   Adele             533\n",
       "       Sam Smith         209\n",
       "       Ariana Grande     168\n",
       "       Madonna           155\n",
       "       Calvin Harris     148\n",
       "                        ... \n",
       "99     Shaggy              1\n",
       "       Sigma               1\n",
       "       Skylar Grey         1\n",
       "       Sonna Rele          1\n",
       "       WINNER              1\n",
       "Name: Name, Length: 10477, dtype: int64"
      ]
     },
     "execution_count": 95,
     "metadata": {},
     "output_type": "execute_result"
    }
   ],
   "source": [
    "df.groupby(\"Weeks\")[\"Name\"].value_counts()"
   ]
  },
  {
   "cell_type": "code",
   "execution_count": 107,
   "id": "74adf11e",
   "metadata": {},
   "outputs": [
    {
     "data": {
      "text/plain": [
       "19362"
      ]
     },
     "execution_count": 107,
     "metadata": {},
     "output_type": "execute_result"
    }
   ],
   "source": [
    "unique_df=len(df[\"Songs Name\"].unique())\n",
    "unique_df"
   ]
  },
  {
   "cell_type": "code",
   "execution_count": 96,
   "id": "7a7dfdf6",
   "metadata": {
    "scrolled": true
   },
   "outputs": [
    {
     "data": {
      "text/html": [
       "<div>\n",
       "<style scoped>\n",
       "    .dataframe tbody tr th:only-of-type {\n",
       "        vertical-align: middle;\n",
       "    }\n",
       "\n",
       "    .dataframe tbody tr th {\n",
       "        vertical-align: top;\n",
       "    }\n",
       "\n",
       "    .dataframe thead th {\n",
       "        text-align: right;\n",
       "    }\n",
       "</style>\n",
       "<table border=\"1\" class=\"dataframe\">\n",
       "  <thead>\n",
       "    <tr style=\"text-align: right;\">\n",
       "      <th></th>\n",
       "      <th>Name</th>\n",
       "      <th>Songs Name</th>\n",
       "      <th>Date</th>\n",
       "    </tr>\n",
       "  </thead>\n",
       "  <tbody>\n",
       "    <tr>\n",
       "      <th>1</th>\n",
       "      <td>Taylor Swift</td>\n",
       "      <td>Blank Space</td>\n",
       "      <td>20150101</td>\n",
       "    </tr>\n",
       "    <tr>\n",
       "      <th>2</th>\n",
       "      <td>Mark Ronson</td>\n",
       "      <td>Uptown Funk</td>\n",
       "      <td>20150101</td>\n",
       "    </tr>\n",
       "    <tr>\n",
       "      <th>3</th>\n",
       "      <td>Ed Sheeran</td>\n",
       "      <td>Thinking Out Loud</td>\n",
       "      <td>20150101</td>\n",
       "    </tr>\n",
       "    <tr>\n",
       "      <th>4</th>\n",
       "      <td>Taylor Swift</td>\n",
       "      <td>Shake It Off</td>\n",
       "      <td>20150101</td>\n",
       "    </tr>\n",
       "    <tr>\n",
       "      <th>5</th>\n",
       "      <td>Meghan Trainor</td>\n",
       "      <td>All About That Bass</td>\n",
       "      <td>20150101</td>\n",
       "    </tr>\n",
       "    <tr>\n",
       "      <th>...</th>\n",
       "      <td>...</td>\n",
       "      <td>...</td>\n",
       "      <td>...</td>\n",
       "    </tr>\n",
       "    <tr>\n",
       "      <th>565596</th>\n",
       "      <td>FLEMMING</td>\n",
       "      <td>Zij Wil Mij</td>\n",
       "      <td>20211231</td>\n",
       "    </tr>\n",
       "    <tr>\n",
       "      <th>565597</th>\n",
       "      <td>Natalia LaFourcade</td>\n",
       "      <td>Hasta la Raíz</td>\n",
       "      <td>20211231</td>\n",
       "    </tr>\n",
       "    <tr>\n",
       "      <th>565598</th>\n",
       "      <td>Christina Perri</td>\n",
       "      <td>A Thousand Years</td>\n",
       "      <td>20211231</td>\n",
       "    </tr>\n",
       "    <tr>\n",
       "      <th>565599</th>\n",
       "      <td>K3</td>\n",
       "      <td>Waterval</td>\n",
       "      <td>20211231</td>\n",
       "    </tr>\n",
       "    <tr>\n",
       "      <th>565600</th>\n",
       "      <td>Grand Corps Malade &amp; Kimberose</td>\n",
       "      <td>Nos plus belles années</td>\n",
       "      <td>20211231</td>\n",
       "    </tr>\n",
       "  </tbody>\n",
       "</table>\n",
       "<p>565600 rows × 3 columns</p>\n",
       "</div>"
      ],
      "text/plain": [
       "                                   Name               Songs Name      Date\n",
       "1                         Taylor Swift               Blank Space  20150101\n",
       "2                          Mark Ronson               Uptown Funk  20150101\n",
       "3                           Ed Sheeran         Thinking Out Loud  20150101\n",
       "4                         Taylor Swift              Shake It Off  20150101\n",
       "5                       Meghan Trainor       All About That Bass  20150101\n",
       "...                                 ...                      ...       ...\n",
       "565596                        FLEMMING               Zij Wil Mij  20211231\n",
       "565597              Natalia LaFourcade             Hasta la Raíz  20211231\n",
       "565598                 Christina Perri          A Thousand Years  20211231\n",
       "565599                              K3                  Waterval  20211231\n",
       "565600  Grand Corps Malade & Kimberose    Nos plus belles années  20211231\n",
       "\n",
       "[565600 rows x 3 columns]"
      ]
     },
     "execution_count": 96,
     "metadata": {},
     "output_type": "execute_result"
    }
   ],
   "source": [
    "new_data = df[[\"Name\", \"Songs Name\", \"Date\"]]\n",
    "new_df = pd.DataFrame(new_data)\n",
    "\n",
    "new_df"
   ]
  },
  {
   "cell_type": "code",
   "execution_count": 122,
   "id": "7437330b",
   "metadata": {},
   "outputs": [
    {
     "name": "stdout",
     "output_type": "stream",
     "text": [
      "Number of unique songs in 2015: 2504\n"
     ]
    }
   ],
   "source": [
    "songs_2015 = df[df['Date'].astype(str).str.startswith('2015')]\n",
    "\n",
    "unique_songs_2015 = songs_2015['Songs Name'].unique()\n",
    "\n",
    "print(\"Number of unique songs in 2015:\", len(unique_songs_2015))"
   ]
  },
  {
   "cell_type": "code",
   "execution_count": 121,
   "id": "f43e80ab",
   "metadata": {},
   "outputs": [
    {
     "name": "stdout",
     "output_type": "stream",
     "text": [
      "Total unique songs from 20150901 to 20160121: 1270\n"
     ]
    }
   ],
   "source": [
    "start_date = 20150901\n",
    "end_date = 20160121\n",
    "\n",
    "songs_range = new_df[(new_df['Date'] >= start_date) & (new_df['Date'] <= end_date)]\n",
    "unique_songs_range = songs_range[\"Songs Name\"].unique()\n",
    "\n",
    "print(f\"Total unique songs from {start_date} to {end_date}: {len(unique_songs_range)}\")\n"
   ]
  },
  {
   "cell_type": "code",
   "execution_count": 112,
   "id": "353551a0",
   "metadata": {},
   "outputs": [
    {
     "name": "stdout",
     "output_type": "stream",
     "text": [
      "Total songs in 2015: 91250\n",
      "Total number of songs from 20150901 to 20160121: 35750\n"
     ]
    }
   ],
   "source": [
    "songs_2015 = new_df[new_df['Date'].astype(str).str.startswith('2015')]\n",
    "total_songs_2015 = songs_2015.shape[0]\n",
    "\n",
    "start_date = 20150901\n",
    "end_date = 20160121\n",
    "\n",
    "songs_range_2015 = new_df[(new_df['Date'] >= start_date) & (new_df['Date'] <= end_date)]\n",
    "total_songs_range = len(songs_range)\n",
    "\n",
    "\n",
    "print(f\"Total songs in 2015: {total_songs_2015}\")\n",
    "print(f\"Total number of songs from {start_date} to {end_date}: {total_songs_range}\")\n"
   ]
  },
  {
   "cell_type": "code",
   "execution_count": 129,
   "id": "1d0dee4a",
   "metadata": {
    "scrolled": false
   },
   "outputs": [
    {
     "data": {
      "image/png": "[encoded data removed]",
      "text/plain": [
       "<Figure size 1000x500 with 1 Axes>"
      ]
     },
     "metadata": {},
     "output_type": "display_data"
    }
   ],
   "source": [
    "total_songs_2015 = 91250\n",
    "total_songs_range = 35750\n",
    "unique_songs_2015 = 2504\n",
    "unique_songs_gameseason = 1270\n",
    "\n",
    "labels = ['2015 Whole Year', 'Game Season', \"Unique Song in 2015\",\n",
    "         'Unique Song in Gameseason']\n",
    "values = [total_songs_2015, total_songs_range, unique_songs_2015, unique_songs_gameseason ]\n",
    "\n",
    "\n",
    "fig = plt.figure(figsize=(10, 5))\n",
    "plt.bar(labels, values,color=['orange', 'green','red','blue'])\n",
    "\n",
    "plt.title('Songs')\n",
    "plt.ylabel('Number of Songs')\n",
    "plt.xlabel('Year-2015')\n",
    "for index, data in enumerate(values):\n",
    "    plt.text(x=index, y=data+29, s=f\"{data}\", ha=\"center\", fontsize = 13)\n",
    "plt.show()\n"
   ]
  },
  {
   "cell_type": "code",
   "execution_count": 132,
   "id": "c10dfe1d",
   "metadata": {},
   "outputs": [
    {
     "name": "stdout",
     "output_type": "stream",
     "text": [
      "Number of unique songs in 2016: 2580\n"
     ]
    }
   ],
   "source": [
    "songs_2016 = df[df['Date'].astype(str).str.startswith('2016')]\n",
    "\n",
    "unique_songs_2016 = songs_2016['Songs Name'].unique()\n",
    "\n",
    "print(\"Number of unique songs in 2016:\", len(unique_songs_2016))"
   ]
  },
  {
   "cell_type": "code",
   "execution_count": 133,
   "id": "25d173f4",
   "metadata": {},
   "outputs": [
    {
     "name": "stdout",
     "output_type": "stream",
     "text": [
      "Total unique songs from 20160901 to 20170121: 1312\n"
     ]
    }
   ],
   "source": [
    "start_date = 20160901\n",
    "end_date = 20170121\n",
    "\n",
    "songs_range = new_df[(new_df['Date'] >= start_date) & (new_df['Date'] <= end_date)]\n",
    "unique_songs_range = songs_range[\"Songs Name\"].unique()\n",
    "\n",
    "print(f\"Total unique songs from {start_date} to {end_date}: {len(unique_songs_range)}\")"
   ]
  },
  {
   "cell_type": "code",
   "execution_count": 134,
   "id": "04ffc58b",
   "metadata": {},
   "outputs": [
    {
     "name": "stdout",
     "output_type": "stream",
     "text": [
      "Total songs in 2016: 91500\n",
      "Total number of songs from 20160901 to 20170121: 35750\n"
     ]
    }
   ],
   "source": [
    "songs_2016 = new_df[new_df['Date'].astype(str).str.startswith('2016')]\n",
    "total_songs_2016 = songs_2016.shape[0]\n",
    "\n",
    "start_date = 20160901\n",
    "end_date = 20170121\n",
    "\n",
    "songs_range = new_df[(new_df['Date'] >= start_date) & (new_df['Date'] <= end_date)]\n",
    "total_songs_range = len(songs_range)\n",
    "\n",
    "\n",
    "print(f\"Total songs in 2016: {total_songs_2016}\")\n",
    "\n",
    "print(f\"Total number of songs from {start_date} to {end_date}: {total_songs_range}\")"
   ]
  },
  {
   "cell_type": "code",
   "execution_count": 138,
   "id": "144a9f60",
   "metadata": {},
   "outputs": [
    {
     "data": {
      "image/png": "[encoded data removed]",
      "text/plain": [
       "<Figure size 1000x500 with 1 Axes>"
      ]
     },
     "metadata": {},
     "output_type": "display_data"
    }
   ],
   "source": [
    "total_songs_2016 = 91500\n",
    "total_songs_range = 35750\n",
    "unique_songs_2016 = 2580\n",
    "unique_songs_gameseason = 1312\n",
    "\n",
    "labels = ['2016 Whole Year', 'Game Season',\"Unique Song in 2016\",'Unique Song in Gameseason']\n",
    "values = [total_songs_2016, total_songs_range,unique_songs_2016, unique_songs_gameseason]\n",
    "\n",
    "fig = plt.figure(figsize=(10, 5))\n",
    "plt.bar(labels, values, color=['orange', 'green','red','blue'])\n",
    "plt.title('Songs')\n",
    "plt.ylabel('Number of Songs')\n",
    "plt.xlabel('Year-2016')\n",
    "for index, data in enumerate(values):\n",
    "    plt.text(x=index, y=data+29, s=f\"{data}\", ha=\"center\", fontsize = 13)\n",
    "plt.show()"
   ]
  },
  {
   "cell_type": "code",
   "execution_count": 56,
   "id": "676e66ff",
   "metadata": {},
   "outputs": [
    {
     "name": "stdout",
     "output_type": "stream",
     "text": [
      "Total songs in 2017: 90650\n",
      "Total number of songs from 20170901 to 20180121: 34100\n"
     ]
    }
   ],
   "source": [
    "songs_2017 = new_df[new_df['Date'].astype(str).str.startswith('2017')]\n",
    "total_songs_2017 = songs_2017.shape[0]\n",
    "\n",
    "start_date = 20170901\n",
    "end_date = 20180121\n",
    "\n",
    "songs_range = new_df[(new_df['Date'] >= start_date) & (new_df['Date'] <= end_date)]\n",
    "total_songs_range = len(songs_range)\n",
    "\n",
    "\n",
    "print(f\"Total songs in 2017: {total_songs_2017}\")\n",
    "\n",
    "print(f\"Total number of songs from {start_date} to {end_date}: {total_songs_range}\")"
   ]
  },
  {
   "cell_type": "code",
   "execution_count": 57,
   "id": "4a0dfb6c",
   "metadata": {
    "scrolled": false
   },
   "outputs": [
    {
     "data": {
      "image/png": "[encoded data removed]",
      "text/plain": [
       "<Figure size 1000x500 with 1 Axes>"
      ]
     },
     "metadata": {},
     "output_type": "display_data"
    }
   ],
   "source": [
    "total_songs_2017 = 90650\n",
    "total_songs_range = 34100\n",
    "\n",
    "\n",
    "labels = ['2017 Whole Year', 'Game Season(Sep 1, 2017 - Jan 21, 2018)']\n",
    "values = [total_songs_2017, total_songs_range]\n",
    "\n",
    "fig = plt.figure(figsize=(10, 5))\n",
    "plt.bar(labels, values, color=['orange', 'green'])\n",
    "plt.title('Songs')\n",
    "plt.ylabel('Number of Songs')\n",
    "plt.xlabel('Year-2017')\n",
    "plt.show()"
   ]
  },
  {
   "cell_type": "code",
   "execution_count": 92,
   "id": "62ea2fdb",
   "metadata": {},
   "outputs": [
    {
     "data": {
      "image/png": "[encoded data removed]",
      "text/plain": [
       "<Figure size 1200x500 with 1 Axes>"
      ]
     },
     "metadata": {},
     "output_type": "display_data"
    }
   ],
   "source": [
    "total_songs_2015 = 91250\n",
    "total_songs_range_2015 = 35750\n",
    "total_songs_2016 = 91500\n",
    "total_songs_range_2016 = 35750\n",
    "total_songs_2017 = 90650\n",
    "total_songs_range_2017 = 34100\n",
    "\n",
    "\n",
    "labels = ['2015','2015 Game Season','2016','2016 Game Season','2017','2017 Game Season']\n",
    "values = [total_songs_2015,total_songs_range_2015,total_songs_2016, total_songs_range_2016,\n",
    "          total_songs_2017, total_songs_range_2017]\n",
    "\n",
    "fig = plt.figure(figsize=(12, 5))\n",
    "plt.bar(labels, values, color=['orange','bisque','red','lightcoral','black','darkgray'])\n",
    "plt.title('Songs')\n",
    "plt.ylabel('Number of Songs')\n",
    "plt.xlabel('2015-2017')\n",
    "for index, data in enumerate(values):\n",
    "    plt.text(x=index, y=data+29, s=f\"{data}\", ha=\"center\", fontsize = 13)\n",
    "plt.show()\n"
   ]
  },
  {
   "cell_type": "code",
   "execution_count": null,
   "id": "ddf1e9b8",
   "metadata": {},
   "outputs": [],
   "source": []
  }
 ],
 "metadata": {
  "kernelspec": {
   "display_name": "Python 3 (ipykernel)",
   "language": "python",
   "name": "python3"
  },
  "language_info": {
   "codemirror_mode": {
    "name": "ipython",
    "version": 3
   },
   "file_extension": ".py",
   "mimetype": "text/x-python",
   "name": "python",
   "nbconvert_exporter": "python",
   "pygments_lexer": "ipython3",
   "version": "3.9.16"
  }
 },
 "nbformat": 4,
 "nbformat_minor": 5
}
