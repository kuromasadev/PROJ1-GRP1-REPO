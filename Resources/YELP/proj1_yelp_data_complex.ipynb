{
 "cells": [
  {
   "attachments": {},
   "cell_type": "markdown",
   "metadata": {},
   "source": [
    "#### Import Dependencies"
   ]
  },
  {
   "cell_type": "code",
   "execution_count": 1,
   "metadata": {},
   "outputs": [],
   "source": [
    "import pandas as pd\n",
    "import json \n",
    "import chardet"
   ]
  },
  {
   "attachments": {},
   "cell_type": "markdown",
   "metadata": {},
   "source": [
    "### Testing the encoding "
   ]
  },
  {
   "cell_type": "code",
   "execution_count": 18,
   "metadata": {},
   "outputs": [
    {
     "name": "stdout",
     "output_type": "stream",
     "text": [
      "The encoding of the file set is utf-8.\n"
     ]
    }
   ],
   "source": [
    "# Open a file in binary mode and read the first 5,000 bytes\n",
    "with open(\"../YELP/archive/yelp_academic_dataset_business.json\", \"rb\") as f:\n",
    "    data = f.read(1000000)\n",
    "\n",
    "encoding = chardet.detect(data)['encoding']\n",
    "\n",
    "print(\"The encoding of the file set is \"+encoding +\".\")"
   ]
  },
  {
   "cell_type": "code",
   "execution_count": 6,
   "metadata": {},
   "outputs": [
    {
     "name": "stdout",
     "output_type": "stream",
     "text": [
      "{\"business_id\":\"Pns2l4eNsfO8kk83dixA6A\",\"name\":\"Abby Rappoport, LAC, CMQ\",\"address\":\"1616 Chapala St, Ste 2\",\"city\":\"Santa Barbara\",\"state\":\"CA\",\"postal_code\":\"93101\",\"latitude\":34.4266787,\"longitude\":-119.7111968,\"stars\":5.0,\"review_count\":7,\"is_open\":0,\"attributes\":{\"ByAppointmentOnly\":\"True\"},\"categories\":\"Doctors, Traditional Chinese Medicine, Naturopathic\\/Holistic, Acupuncture, Health & Medical, Nutritionists\",\"hours\":null}\n",
      "\n",
      "{\"business_id\":\"mpf3x-BjTdTEA3yCZrAYPw\",\"name\":\"The UPS Store\",\"address\":\"87 Grasso Plaza Shopping Center\",\"city\":\"Affton\",\"state\":\"MO\",\"postal_code\":\"63123\",\"latitude\":38.551126,\"longitude\":-90.335695,\"stars\":3.0,\"review_count\":15,\"is_open\":1,\"attributes\":{\"BusinessAcceptsCreditCards\":\"True\"},\"categories\":\"Shipping Centers, Local Services, Notaries, Mailbox Centers, Printing Services\",\"hours\":{\"Monday\":\"0:0-0:0\",\"Tuesday\":\"8:0-18:30\",\"Wednesday\":\"8:0-18:30\",\"Thursday\":\"8:0-18:30\",\"Friday\":\"8:0-18:30\",\"Saturday\":\"8:0-14:0\"}}\n",
      "\n",
      "{\"business_id\":\"tUFrWirKiKi_TAnsVWINQQ\",\"name\":\"Target\",\"address\":\"5255 E Broadway Blvd\",\"city\":\"Tucson\",\"state\":\"AZ\",\"postal_code\":\"85711\",\"latitude\":32.223236,\"longitude\":-110.880452,\"stars\":3.5,\"review_count\":22,\"is_open\":0,\"attributes\":{\"BikeParking\":\"True\",\"BusinessAcceptsCreditCards\":\"True\",\"RestaurantsPriceRange2\":\"2\",\"CoatCheck\":\"False\",\"RestaurantsTakeOut\":\"False\",\"RestaurantsDelivery\":\"False\",\"Caters\":\"False\",\"WiFi\":\"u'no'\",\"BusinessParking\":\"{'garage': False, 'street': False, 'validated': False, 'lot': True, 'valet': False}\",\"WheelchairAccessible\":\"True\",\"HappyHour\":\"False\",\"OutdoorSeating\":\"False\",\"HasTV\":\"False\",\"RestaurantsReservations\":\"False\",\"DogsAllowed\":\"False\",\"ByAppointmentOnly\":\"False\"},\"categories\":\"Department Stores, Shopping, Fashion, Home & Garden, Electronics, Furniture Stores\",\"hours\":{\"Monday\":\"8:0-22:0\",\"Tuesday\":\"8:0-22:0\",\"Wednesday\":\"8:0-22:0\",\"Thursday\":\"8:0-22:0\",\"Friday\":\"8:0-23:0\",\"Saturday\":\"8:0-23:0\",\"Sunday\":\"8:0-22:0\"}}\n",
      "\n",
      "{\"business_id\":\"MTSW4McQd7CbVtyjqoe9mw\",\"name\":\"St Honore Pastries\",\"address\":\"935 Race St\",\"city\":\"Philadelphia\",\"state\":\"PA\",\"postal_code\":\"19107\",\"latitude\":39.9555052,\"longitude\":-75.1555641,\"stars\":4.0,\"review_count\":80,\"is_open\":1,\"attributes\":{\"RestaurantsDelivery\":\"False\",\"OutdoorSeating\":\"False\",\"BusinessAcceptsCreditCards\":\"False\",\"BusinessParking\":\"{'garage': False, 'street': True, 'validated': False, 'lot': False, 'valet': False}\",\"BikeParking\":\"True\",\"RestaurantsPriceRange2\":\"1\",\"RestaurantsTakeOut\":\"True\",\"ByAppointmentOnly\":\"False\",\"WiFi\":\"u'free'\",\"Alcohol\":\"u'none'\",\"Caters\":\"True\"},\"categories\":\"Restaurants, Food, Bubble Tea, Coffee & Tea, Bakeries\",\"hours\":{\"Monday\":\"7:0-20:0\",\"Tuesday\":\"7:0-20:0\",\"Wednesday\":\"7:0-20:0\",\"Thursday\":\"7:0-20:0\",\"Friday\":\"7:0-21:0\",\"Saturday\":\"7:0-21:0\",\"Sunday\":\"7:0-21:0\"}}\n",
      "\n",
      "{\"business_id\":\"mWMc6_wTdE0EUBKIGXDVfA\",\"name\":\"Perkiomen Valley Brewery\",\"address\":\"101 Walnut St\",\"city\":\"Green Lane\",\"state\":\"PA\",\"postal_code\":\"18054\",\"latitude\":40.3381827,\"longitude\":-75.4716585,\"stars\":4.5,\"review_count\":13,\"is_open\":1,\"attributes\":{\"BusinessAcceptsCreditCards\":\"True\",\"WheelchairAccessible\":\"True\",\"RestaurantsTakeOut\":\"True\",\"BusinessParking\":\"{'garage': None, 'street': None, 'validated': None, 'lot': True, 'valet': False}\",\"BikeParking\":\"True\",\"GoodForKids\":\"True\",\"Caters\":\"False\"},\"categories\":\"Brewpubs, Breweries, Food\",\"hours\":{\"Wednesday\":\"14:0-22:0\",\"Thursday\":\"16:0-22:0\",\"Friday\":\"12:0-22:0\",\"Saturday\":\"12:0-22:0\",\"Sunday\":\"12:0-18:0\"}}\n",
      "\n"
     ]
    }
   ],
   "source": [
    "# Open the file in text mode using the codec\n",
    "with open('../YELP/archive/yelp_academic_dataset_business.json', 'r', encoding='ascii') as f:\n",
    "    # Read the first five lines of the file and print them out\n",
    "    for i in range(5):\n",
    "        line = f.readline()\n",
    "        print(line)"
   ]
  },
  {
   "attachments": {},
   "cell_type": "markdown",
   "metadata": {},
   "source": [
    "### Extracting the desired states from set"
   ]
  },
  {
   "cell_type": "code",
   "execution_count": 2,
   "metadata": {},
   "outputs": [],
   "source": [
    "# Setup definition to read through all the files\n",
    "\n",
    "def filter_by_city(input_file):\n",
    "    # Open the input file and read the data\n",
    "    with open(input_file, 'r', encoding='utf-8') as f:\n",
    "        # Read the contents of the file into a string\n",
    "        contents = f.read()\n",
    "\n",
    "    # Split the contents by newlines, as each JSON object should be on a separate line\n",
    "    contents = contents.strip().split('\\n')\n",
    "\n",
    "    # Load each JSON object from the string\n",
    "    data = [json.loads(obj) for obj in contents]\n",
    "\n",
    "    # Filter the data to include only entries where the 'state' field is 'PA' or 'NC'\n",
    "    filtered_data = [entry for entry in data if entry.get('state') in ['PA', 'NC']]\n",
    "\n",
    "    return filtered_data"
   ]
  },
  {
   "cell_type": "code",
   "execution_count": 3,
   "metadata": {},
   "outputs": [],
   "source": [
    "input_files = ['./archive/yelp_academic_dataset_business.json',\n",
    "               './archive/yelp_academic_dataset_checkin.json',\n",
    "               './archive/yelp_academic_dataset_review.json',\n",
    "               './archive/yelp_academic_dataset_tip.json',\n",
    "               './archive/yelp_academic_dataset_user.json']"
   ]
  },
  {
   "cell_type": "code",
   "execution_count": 4,
   "metadata": {},
   "outputs": [],
   "source": [
    "# Iterate over the list of input files and filter each file\n",
    "for input_file in input_files:\n",
    "    filtered_data = filter_by_city(input_file)\n",
    "\n",
    "    # Write the filtered data to a new JSON file\n",
    "    output_file = input_file.replace('.json', '_proj1filtered.json')\n",
    "    with open(output_file, 'w', encoding='utf-8') as f:\n",
    "        json.dump(filtered_data, f, ensure_ascii=True, indent=4)"
   ]
  }
 ],
 "metadata": {
  "kernelspec": {
   "display_name": "dev00",
   "language": "python",
   "name": "python3"
  },
  "language_info": {
   "codemirror_mode": {
    "name": "ipython",
    "version": 3
   },
   "file_extension": ".py",
   "mimetype": "text/x-python",
   "name": "python",
   "nbconvert_exporter": "python",
   "pygments_lexer": "ipython3",
   "version": "3.11.3"
  },
  "orig_nbformat": 4
 },
 "nbformat": 4,
 "nbformat_minor": 2
}
